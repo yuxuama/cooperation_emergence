{
 "cells": [
  {
   "cell_type": "markdown",
   "id": "4f9e376f",
   "metadata": {},
   "source": [
    "# Stochastic block model analysis using `graph-tool`\n",
    "\n",
    "**Warning:** This notebook can only run on a Linux (or Mac OS) as the `graph-tool` module is not available on Windows"
   ]
  },
  {
   "cell_type": "code",
   "execution_count": 105,
   "id": "3e9b0a95",
   "metadata": {},
   "outputs": [],
   "source": [
    "import graph_tool.all as gt\n",
    "import sys\n",
    "sys.path.append(r\"../\")\n",
    "\n",
    "from graph import Network"
   ]
  },
  {
   "cell_type": "code",
   "execution_count": 106,
   "id": "568d0a56",
   "metadata": {},
   "outputs": [],
   "source": [
    "# Loading network from file\n",
    "\n",
    "filename = r\"../out/last/RTH_E3O2P21R12T17_Empty_L10_C750_S50_T0_444675_distrib.h5\"\n",
    "net = Network()\n",
    "net.reload_with_hdf5(filename)"
   ]
  },
  {
   "cell_type": "code",
   "execution_count": 107,
   "id": "903c65e0",
   "metadata": {},
   "outputs": [],
   "source": [
    "# Network to graph tool graph\n",
    "\n",
    "g = gt.Graph()\n",
    "etrust = g.new_edge_property(\"double\")\n",
    "elink = g.new_edge_property(\"int\")\n",
    "g.edge_properties[\"trust\"] = etrust\n",
    "g.edge_properties[\"link\"] = elink\n",
    "g.add_edge_list(net.get_edge_list(), eprops=[g.ep.trust, g.ep.link])\n",
    "\n",
    "ph = g.new_vertex_property(\"string\", vals=net.phenotypes_table)\n",
    "g.vertex_properties[\"Phenotype\"] = ph"
   ]
  },
  {
   "cell_type": "code",
   "execution_count": 112,
   "id": "d0f69351",
   "metadata": {},
   "outputs": [],
   "source": [
    "state = gt.minimize_nested_blockmodel_dl(g)"
   ]
  },
  {
   "cell_type": "markdown",
   "id": "325838c8",
   "metadata": {},
   "source": [
    "Tab10 colors:\n",
    "- tab:blue : #1f77b4\n",
    "- tab:orange : #ff7f0e\n",
    "- tab:green : #2ca02c\n",
    "- tab:red : #d62728\n",
    "- tab:purple : #9467bd"
   ]
  },
  {
   "cell_type": "code",
   "execution_count": 113,
   "id": "fac080d8",
   "metadata": {},
   "outputs": [],
   "source": [
    "# Setting color based on phenotype\n",
    "color_dict = {\n",
    "    \"Envious\": 'tab:blue',\n",
    "    \"Optimist\": 'tab:orange',\n",
    "    \"Pessimist\": 'tab:green',\n",
    "    \"Random\": 'tab:red',\n",
    "    \"Trustful\": 'tab:purple'\n",
    "}\n",
    "vcolors = []\n",
    "ph_table = net.phenotypes_table\n",
    "for i in range(len(ph_table)):\n",
    "    vcolors.append(color_dict[ph_table[i]])\n",
    "vcolorp = g.new_vertex_property(\"string\", vals=vcolors)"
   ]
  },
  {
   "cell_type": "code",
   "execution_count": 114,
   "id": "9d09b143",
   "metadata": {},
   "outputs": [],
   "source": [
    "# Setting edges appearence\n",
    "esizes = []\n",
    "edge_list = net.get_edge_list()\n",
    "for i, j, t, l in edge_list:\n",
    "    esizes.append(float(l))\n",
    "esizep = g.new_edge_property('float', vals=esizes)"
   ]
  },
  {
   "cell_type": "code",
   "execution_count": 116,
   "id": "a7dd6e4a",
   "metadata": {},
   "outputs": [],
   "source": [
    "img = state.draw(\n",
    "            output=r\"../images/sbm_rth.png\", \n",
    "            vprops = {\n",
    "                \"size\": 10,\n",
    "                \"halo\": True,\n",
    "                \"halo_color\": vcolorp,\n",
    "                \"halo_size\": 2, \n",
    "                \"color\": [0, 0, 0, 0.5]\n",
    "            },\n",
    "            eprops= {\n",
    "                \"pen_width\": esizep\n",
    "            }\n",
    ")"
   ]
  },
  {
   "cell_type": "code",
   "execution_count": null,
   "id": "9e68cfdc",
   "metadata": {},
   "outputs": [],
   "source": []
  }
 ],
 "metadata": {
  "kernelspec": {
   "display_name": "gt_env",
   "language": "python",
   "name": "python3"
  },
  "language_info": {
   "codemirror_mode": {
    "name": "ipython",
    "version": 3
   },
   "file_extension": ".py",
   "mimetype": "text/x-python",
   "name": "python",
   "nbconvert_exporter": "python",
   "pygments_lexer": "ipython3",
   "version": "3.13.3"
  }
 },
 "nbformat": 4,
 "nbformat_minor": 5
}
